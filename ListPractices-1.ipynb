{
 "cells": [
  {
   "cell_type": "code",
   "execution_count": 1,
   "id": "8194410b-95a7-4381-bd7b-a6334558a1fa",
   "metadata": {},
   "outputs": [],
   "source": [
    "# liste oluşturma"
   ]
  },
  {
   "cell_type": "code",
   "execution_count": 3,
   "id": "1968ccf6-acec-4b8e-b8b3-c912b90a6e78",
   "metadata": {},
   "outputs": [],
   "source": [
    "list1 = []"
   ]
  },
  {
   "cell_type": "code",
   "execution_count": 5,
   "id": "9cca5c65-26f7-45e1-b002-015a8e1d7885",
   "metadata": {},
   "outputs": [],
   "source": [
    "# Farklı türlerden oluşan liste oluşturma"
   ]
  },
  {
   "cell_type": "code",
   "execution_count": 7,
   "id": "1f92d77b-4cdc-4dd4-8b1f-95a232e94fa8",
   "metadata": {},
   "outputs": [],
   "source": [
    "list2 = [1,\"python\",2.5,True]"
   ]
  },
  {
   "cell_type": "code",
   "execution_count": 9,
   "id": "a0291508-a7ae-48e5-b3c3-ff3628566097",
   "metadata": {},
   "outputs": [
    {
     "name": "stdout",
     "output_type": "stream",
     "text": [
      "[1, 'python', 2.5, True]\n"
     ]
    }
   ],
   "source": [
    "print(list2)"
   ]
  },
  {
   "cell_type": "code",
   "execution_count": 11,
   "id": "7c7d54c5-650e-4ed0-a22a-6f2b048c1f1f",
   "metadata": {},
   "outputs": [],
   "source": [
    "# Liste sonuna yeni bir öğe ekle."
   ]
  },
  {
   "cell_type": "code",
   "execution_count": 13,
   "id": "56d0d460-eb18-4cc9-b427-888fc969caca",
   "metadata": {},
   "outputs": [],
   "source": [
    "list1.append(5)"
   ]
  },
  {
   "cell_type": "code",
   "execution_count": 15,
   "id": "fb93b754-8571-4521-bfa4-cc202af8db63",
   "metadata": {},
   "outputs": [
    {
     "name": "stdout",
     "output_type": "stream",
     "text": [
      "[5]\n"
     ]
    }
   ],
   "source": [
    "print(list1)"
   ]
  },
  {
   "cell_type": "code",
   "execution_count": 17,
   "id": "e3bfa95f-2530-4d09-b8d2-b0b22b16bfa8",
   "metadata": {},
   "outputs": [],
   "source": [
    "#  Belirtilen indekse öğe ekle."
   ]
  },
  {
   "cell_type": "code",
   "execution_count": 19,
   "id": "57f3b06e-c6cd-4e71-bed2-3cd8af86f6ce",
   "metadata": {},
   "outputs": [],
   "source": [
    "list1.insert(1,\"Hello\")"
   ]
  },
  {
   "cell_type": "code",
   "execution_count": 21,
   "id": "7f8340bd-e074-47da-89f0-452753b6d609",
   "metadata": {},
   "outputs": [
    {
     "name": "stdout",
     "output_type": "stream",
     "text": [
      "[5, 'Hello']\n"
     ]
    }
   ],
   "source": [
    "print(list1)"
   ]
  },
  {
   "cell_type": "code",
   "execution_count": 23,
   "id": "3e13e122-d71c-490a-93eb-30c16b4adce8",
   "metadata": {},
   "outputs": [],
   "source": [
    "# Belirtilen değeri listeden sil."
   ]
  },
  {
   "cell_type": "code",
   "execution_count": 25,
   "id": "44b04ef4-b795-4522-ae35-3b66882e50fb",
   "metadata": {},
   "outputs": [],
   "source": [
    "list1.remove(5)"
   ]
  },
  {
   "cell_type": "code",
   "execution_count": 27,
   "id": "af3e2c89-96fd-42a9-9b06-d65810d25029",
   "metadata": {},
   "outputs": [
    {
     "name": "stdout",
     "output_type": "stream",
     "text": [
      "['Hello']\n"
     ]
    }
   ],
   "source": [
    "print(list1)"
   ]
  },
  {
   "cell_type": "code",
   "execution_count": 29,
   "id": "cd3ca2d1-0e5d-4967-9547-e7ee81953f0e",
   "metadata": {},
   "outputs": [],
   "source": [
    "# Belirtilen indeksdeki öğeyi çıkarır ve döner. İndeks verilmezse son öğeyi çıkarır."
   ]
  },
  {
   "cell_type": "code",
   "execution_count": 31,
   "id": "7496d327-1326-4537-9a12-cca3ac3bb6cc",
   "metadata": {},
   "outputs": [
    {
     "data": {
      "text/plain": [
       "'Hello'"
      ]
     },
     "execution_count": 31,
     "metadata": {},
     "output_type": "execute_result"
    }
   ],
   "source": [
    "list1.pop(0)"
   ]
  },
  {
   "cell_type": "code",
   "execution_count": 33,
   "id": "6132ac3d-52a6-4a75-9dca-c4e79c6e01c0",
   "metadata": {},
   "outputs": [
    {
     "name": "stdout",
     "output_type": "stream",
     "text": [
      "[]\n"
     ]
    }
   ],
   "source": [
    "print(list1)"
   ]
  },
  {
   "cell_type": "code",
   "execution_count": 37,
   "id": "d2b37ace-1cfe-47b8-8d50-788a5fd01843",
   "metadata": {},
   "outputs": [],
   "source": [
    "# Liste Elemanlarına Erişim"
   ]
  },
  {
   "cell_type": "code",
   "execution_count": null,
   "id": "7cae725f-cdf5-49e2-a2f7-aaba650eed44",
   "metadata": {},
   "outputs": [],
   "source": [
    "# İndeks ile erişim"
   ]
  },
  {
   "cell_type": "code",
   "execution_count": 41,
   "id": "031cfb7c-f73a-4f60-ad76-736dcb972b3e",
   "metadata": {},
   "outputs": [],
   "source": [
    "list3 = [1,\"hello\",3.5,False]"
   ]
  },
  {
   "cell_type": "code",
   "execution_count": 43,
   "id": "04dd0db9-1dce-4690-9243-95af4bc04ac4",
   "metadata": {},
   "outputs": [
    {
     "name": "stdout",
     "output_type": "stream",
     "text": [
      "1\n"
     ]
    }
   ],
   "source": [
    "print(list3[0])"
   ]
  },
  {
   "cell_type": "code",
   "execution_count": 45,
   "id": "3f8e69eb-9e4e-483e-bb80-f61ca5da59e7",
   "metadata": {},
   "outputs": [
    {
     "name": "stdout",
     "output_type": "stream",
     "text": [
      "False\n"
     ]
    }
   ],
   "source": [
    "print(list3[-1])"
   ]
  },
  {
   "cell_type": "code",
   "execution_count": 47,
   "id": "05ba2357-3ffc-48de-a7cd-2c2fcd837b9d",
   "metadata": {},
   "outputs": [],
   "source": [
    "# Liste elemanlarını değiştirme"
   ]
  },
  {
   "cell_type": "code",
   "execution_count": 49,
   "id": "32edb138-ddf2-4605-9958-745aa3a054e5",
   "metadata": {},
   "outputs": [],
   "source": [
    "list3[0] = 2"
   ]
  },
  {
   "cell_type": "code",
   "execution_count": 51,
   "id": "abd19e02-d074-40b1-899b-148b0ce41b29",
   "metadata": {},
   "outputs": [
    {
     "name": "stdout",
     "output_type": "stream",
     "text": [
      "[2, 'hello', 3.5, False]\n"
     ]
    }
   ],
   "source": [
    "print(list3)"
   ]
  },
  {
   "cell_type": "code",
   "execution_count": 53,
   "id": "c449b437-3bd5-4e6a-9dc4-17f0b2f6a281",
   "metadata": {},
   "outputs": [],
   "source": [
    "# Liste Dilimleme (Slicing)"
   ]
  },
  {
   "cell_type": "code",
   "execution_count": 55,
   "id": "d8343bac-d5df-42e4-bc8b-270fe2233fa4",
   "metadata": {},
   "outputs": [],
   "source": [
    "#  İlk üç elemanı alma"
   ]
  },
  {
   "cell_type": "code",
   "execution_count": 57,
   "id": "0834e41c-0c00-46f7-ae14-cc9ec73af3d5",
   "metadata": {},
   "outputs": [
    {
     "data": {
      "text/plain": [
       "[2, 'hello', 3.5]"
      ]
     },
     "execution_count": 57,
     "metadata": {},
     "output_type": "execute_result"
    }
   ],
   "source": [
    "list3[:3]"
   ]
  },
  {
   "cell_type": "code",
   "execution_count": 59,
   "id": "18fede8f-882b-4a67-8658-eacc3cf12d11",
   "metadata": {},
   "outputs": [],
   "source": [
    "# 2. ve 4. indeksten (3. elemandan 5. elemana kadar) alma"
   ]
  },
  {
   "cell_type": "code",
   "execution_count": 63,
   "id": "036a09f5-90f6-4206-89f5-8c3a69fd606e",
   "metadata": {},
   "outputs": [
    {
     "data": {
      "text/plain": [
       "[3.5, False]"
      ]
     },
     "execution_count": 63,
     "metadata": {},
     "output_type": "execute_result"
    }
   ],
   "source": [
    "list3[2:5]"
   ]
  },
  {
   "cell_type": "code",
   "execution_count": 65,
   "id": "b2201201-c301-473e-9ddc-a2629395a5cf",
   "metadata": {},
   "outputs": [],
   "source": [
    "# Son iki elemanı alma"
   ]
  },
  {
   "cell_type": "code",
   "execution_count": 69,
   "id": "1853a939-718c-441d-8155-a3cefe915b67",
   "metadata": {},
   "outputs": [
    {
     "data": {
      "text/plain": [
       "[3.5, False]"
      ]
     },
     "execution_count": 69,
     "metadata": {},
     "output_type": "execute_result"
    }
   ],
   "source": [
    "list3[-2:]"
   ]
  },
  {
   "cell_type": "code",
   "execution_count": 71,
   "id": "509473b6-8f96-4b05-94a6-f587b40d48a6",
   "metadata": {},
   "outputs": [],
   "source": [
    "# Liste Metotları"
   ]
  },
  {
   "cell_type": "code",
   "execution_count": 75,
   "id": "45e3ffcf-0d91-499d-90f3-2bec3d41b565",
   "metadata": {},
   "outputs": [],
   "source": [
    "sayilar = [4, 7, 2, 8, 3, 7]"
   ]
  },
  {
   "cell_type": "code",
   "execution_count": 77,
   "id": "57f70d0a-c0ee-4461-b4a3-0fb6b8be186f",
   "metadata": {},
   "outputs": [
    {
     "name": "stdout",
     "output_type": "stream",
     "text": [
      "6\n"
     ]
    }
   ],
   "source": [
    "print(len(sayilar))"
   ]
  },
  {
   "cell_type": "code",
   "execution_count": 85,
   "id": "3dd440e4-2c95-420f-a9b6-f9fc43c5ecaf",
   "metadata": {},
   "outputs": [],
   "source": [
    "sayilar.sort()"
   ]
  },
  {
   "cell_type": "code",
   "execution_count": 87,
   "id": "d18e509f-5c00-45f1-ab19-72e7d172bd75",
   "metadata": {},
   "outputs": [
    {
     "data": {
      "text/plain": [
       "[2, 3, 4, 7, 7, 8]"
      ]
     },
     "execution_count": 87,
     "metadata": {},
     "output_type": "execute_result"
    }
   ],
   "source": [
    "sayilar"
   ]
  },
  {
   "cell_type": "code",
   "execution_count": 89,
   "id": "7d3e4c30-069c-4d86-bcea-311185be297d",
   "metadata": {},
   "outputs": [],
   "source": [
    "sayilar.reverse()"
   ]
  },
  {
   "cell_type": "code",
   "execution_count": 91,
   "id": "0fd18c48-9518-460b-9005-77cb19fb7d6c",
   "metadata": {},
   "outputs": [
    {
     "data": {
      "text/plain": [
       "[8, 7, 7, 4, 3, 2]"
      ]
     },
     "execution_count": 91,
     "metadata": {},
     "output_type": "execute_result"
    }
   ],
   "source": [
    "sayilar"
   ]
  },
  {
   "cell_type": "code",
   "execution_count": 95,
   "id": "f6cb118d-5671-47aa-bb7f-0518e6c262d4",
   "metadata": {},
   "outputs": [
    {
     "name": "stdout",
     "output_type": "stream",
     "text": [
      "1\n"
     ]
    }
   ],
   "source": [
    "print(sayilar.index(7))"
   ]
  },
  {
   "cell_type": "code",
   "execution_count": 97,
   "id": "a7c54a02-a747-4060-b946-5b80faedbe44",
   "metadata": {},
   "outputs": [
    {
     "name": "stdout",
     "output_type": "stream",
     "text": [
      "2\n"
     ]
    }
   ],
   "source": [
    "print(sayilar.count(7))"
   ]
  },
  {
   "cell_type": "code",
   "execution_count": 99,
   "id": "3b10af49-e96e-46a8-a1bd-ae19090e42dd",
   "metadata": {},
   "outputs": [],
   "source": [
    "# Liste İçinde Liste"
   ]
  },
  {
   "cell_type": "code",
   "execution_count": 101,
   "id": "deaa3a25-e268-4a6f-a85b-493f07b356ee",
   "metadata": {},
   "outputs": [],
   "source": [
    "nested_list = [[1,2,3],[4,5,6],[7,8,9]]"
   ]
  },
  {
   "cell_type": "code",
   "execution_count": 103,
   "id": "5c902fdb-03e3-45f5-9b5d-9b41275e6655",
   "metadata": {},
   "outputs": [
    {
     "data": {
      "text/plain": [
       "[1, 2, 3]"
      ]
     },
     "execution_count": 103,
     "metadata": {},
     "output_type": "execute_result"
    }
   ],
   "source": [
    "nested_list[0]"
   ]
  },
  {
   "cell_type": "code",
   "execution_count": 105,
   "id": "29680aae-3a1f-4729-924a-4195ca672b5a",
   "metadata": {},
   "outputs": [
    {
     "data": {
      "text/plain": [
       "6"
      ]
     },
     "execution_count": 105,
     "metadata": {},
     "output_type": "execute_result"
    }
   ],
   "source": [
    "nested_list[1][2]"
   ]
  },
  {
   "cell_type": "code",
   "execution_count": 109,
   "id": "b8fda66b-afa0-48e3-bf6d-f277d30d4969",
   "metadata": {},
   "outputs": [],
   "source": [
    "# Bir liste verildiğinde, listedeki tüm elemanların toplamını hesaplayan bir fonksiyon yazın."
   ]
  },
  {
   "cell_type": "code",
   "execution_count": 133,
   "id": "cc464811-44b9-4b65-a1ac-8d2e8ef7aaac",
   "metadata": {},
   "outputs": [],
   "source": [
    "list_1 = [0,1,2,3,4,5,6]"
   ]
  },
  {
   "cell_type": "code",
   "execution_count": 135,
   "id": "edfc5622-5693-4181-825c-849b4fe37952",
   "metadata": {},
   "outputs": [
    {
     "name": "stdout",
     "output_type": "stream",
     "text": [
      "21\n"
     ]
    }
   ],
   "source": [
    "def toplam_liste(liste):\n",
    "    return sum(liste)\n",
    "\n",
    "print(toplam_liste(list_1))"
   ]
  },
  {
   "cell_type": "code",
   "execution_count": 137,
   "id": "9045da90-5eb5-4405-af89-5cc9921a4e2d",
   "metadata": {},
   "outputs": [],
   "source": [
    "# Bir listenin tersini döndüren bir fonksiyon yazın. (Kendi ters çevirme algoritmanızı yazabilirsiniz.)"
   ]
  },
  {
   "cell_type": "code",
   "execution_count": 154,
   "id": "da7541fd-568a-4f9a-a17f-a083e8636869",
   "metadata": {},
   "outputs": [
    {
     "name": "stdout",
     "output_type": "stream",
     "text": [
      "[6, 5, 4, 3, 2, 1, 0]\n"
     ]
    }
   ],
   "source": [
    "def listeyi_ters_cevir(liste):\n",
    "    ters_list = liste[::-1]\n",
    "    return ters_list\n",
    "\n",
    "list_1 = [0,1,2,3,4,5,6]\n",
    "print(listeyi_ters_cevir(list_1))"
   ]
  },
  {
   "cell_type": "code",
   "execution_count": 156,
   "id": "5f7a7331-0262-4e1e-b014-6ca12cd38685",
   "metadata": {},
   "outputs": [],
   "source": [
    "# Bir listenin içindeki tekrar eden elemanları silen bir fonksiyon yazın ve listeyi \n",
    "# güncelleyerek tekrar eden öğeler olmadan geri döndürün."
   ]
  },
  {
   "cell_type": "code",
   "execution_count": 158,
   "id": "d02f6a18-302f-41ac-8dbc-1d389db02a47",
   "metadata": {},
   "outputs": [],
   "source": [
    "list_3 = [1,1,1,3,4,4,6,8,8]"
   ]
  },
  {
   "cell_type": "code",
   "execution_count": 166,
   "id": "00586190-94e7-48ef-8584-b6a078484922",
   "metadata": {},
   "outputs": [
    {
     "name": "stdout",
     "output_type": "stream",
     "text": [
      "[1, 3, 4, 6, 8]\n"
     ]
    }
   ],
   "source": [
    "def tekrar_edenleri_sil(liste):\n",
    "    return list(set(liste))\n",
    "\n",
    "# Örnek kullanım\n",
    "print(tekrar_edenleri_sil(list_3))  # Çıktı: [1, 2, 3, 4]"
   ]
  },
  {
   "cell_type": "code",
   "execution_count": 168,
   "id": "78ce6bf1-cccd-4897-bd72-bec2b4a8c2d4",
   "metadata": {},
   "outputs": [],
   "source": [
    "# Bir listenin elemanlarını, iç içe bir liste olarak bölen bir fonksiyon yazın. \n",
    "# Her alt liste, orijinal listenin n elemanını içersin (sonda eksik kalanları da \n",
    "#içerebilir)."
   ]
  },
  {
   "cell_type": "code",
   "execution_count": 182,
   "id": "5041a1d5-912c-4b0a-a027-9f21fce0e8b9",
   "metadata": {},
   "outputs": [
    {
     "name": "stdout",
     "output_type": "stream",
     "text": [
      "[[1, 1, 1, 3], [4, 4, 6, 8], [8]]\n"
     ]
    }
   ],
   "source": [
    "def listeyi_bol(liste, n):\n",
    "    bolunmus_liste = [liste[i:i+n] for i in range(0, len(liste), n)]\n",
    "    return bolunmus_liste\n",
    "\n",
    "list_3 = [1,1,1,3,4,4,6,8,8]\n",
    "print(listeyi_bol(list_3, 4))"
   ]
  },
  {
   "cell_type": "code",
   "execution_count": 184,
   "id": "78166152-5704-4351-903b-9faeebf334d5",
   "metadata": {},
   "outputs": [],
   "source": [
    "# İçerisinde sayılar olan bir liste verildiğinde, listenin en küçük ve en büyük \n",
    "# elemanlarını döndüren bir fonksiyon yazın."
   ]
  },
  {
   "cell_type": "code",
   "execution_count": 204,
   "id": "93af125a-e00f-42dd-9c96-f88dd48483e5",
   "metadata": {},
   "outputs": [],
   "source": [
    "def en_kucuk_en_buyuk_degerler(liste):\n",
    "    list = []\n",
    "    list.append(liste[0])\n",
    "    list.append(liste[-1])\n",
    "    return list"
   ]
  },
  {
   "cell_type": "code",
   "execution_count": 208,
   "id": "d93e1bf8-c633-46a3-ab03-cb5bfa1916ce",
   "metadata": {},
   "outputs": [
    {
     "name": "stdout",
     "output_type": "stream",
     "text": [
      "[0, 6]\n"
     ]
    }
   ],
   "source": [
    "list_1 = [0,1,2,3,4,5,6]\n",
    "print(en_kucuk_en_buyuk_degerler(list_1))"
   ]
  },
  {
   "cell_type": "code",
   "execution_count": 210,
   "id": "1a72bc05-e4a1-4846-a807-25eed9906842",
   "metadata": {},
   "outputs": [],
   "source": [
    "# Diğer çözüm\n",
    "def en_kucuk_en_buyuk(liste):\n",
    "    return min(liste),max(liste)"
   ]
  },
  {
   "cell_type": "code",
   "execution_count": 212,
   "id": "389e47f3-7dea-4d17-960b-b6e28a97b495",
   "metadata": {},
   "outputs": [
    {
     "name": "stdout",
     "output_type": "stream",
     "text": [
      "(0, 6)\n"
     ]
    }
   ],
   "source": [
    "print(en_kucuk_en_buyuk(list_1))"
   ]
  },
  {
   "cell_type": "code",
   "execution_count": 214,
   "id": "9a35cd9f-d204-4c57-b95b-643a546b1118",
   "metadata": {},
   "outputs": [],
   "source": [
    "# Soru 6: Çift ve Tek Sayıları Ayırma\n",
    "# Bir liste verildiğinde, liste içindeki çift ve tek sayıları ayrı listeler olarak \n",
    "# döndüren bir fonksiyon yazın."
   ]
  },
  {
   "cell_type": "code",
   "execution_count": 224,
   "id": "7ee48e30-3bd8-44e4-9b15-4b249165b0af",
   "metadata": {},
   "outputs": [
    {
     "name": "stdout",
     "output_type": "stream",
     "text": [
      "([2, 4, 6], [1, 3, 5])\n"
     ]
    }
   ],
   "source": [
    "def cift_ve_tek_sayilari_ayir(liste):\n",
    "    ciftler = [x for x in liste if x % 2 == 0]\n",
    "    tekler = [x for x in liste if x % 2 != 0]\n",
    "    return ciftler, tekler\n",
    "\n",
    "# Örnek kullanım\n",
    "print(cift_ve_tek_sayilari_ayir([1, 2, 3, 4, 5, 6]))"
   ]
  },
  {
   "cell_type": "code",
   "execution_count": 226,
   "id": "b9fac164-d47e-435d-8d13-16090c70f6ca",
   "metadata": {},
   "outputs": [
    {
     "data": {
      "text/plain": [
       "'\\nSoru 7: Liste Elemanlarını Birleştirme\\nİçerisinde stringler bulunan bir liste verildiğinde, bu listeyi boşluklarla ayrılmış tek \\nbir cümle haline getiren bir fonksiyon yazın.\\n'"
      ]
     },
     "execution_count": 226,
     "metadata": {},
     "output_type": "execute_result"
    }
   ],
   "source": [
    "'''\n",
    "Soru 7: Liste Elemanlarını Birleştirme\n",
    "İçerisinde stringler bulunan bir liste verildiğinde, bu listeyi boşluklarla ayrılmış tek \n",
    "bir cümle haline getiren bir fonksiyon yazın.\n",
    "'''"
   ]
  },
  {
   "cell_type": "code",
   "execution_count": 242,
   "id": "5d6b90b7-b93e-4853-a9ed-f884c47eda9f",
   "metadata": {},
   "outputs": [
    {
     "name": "stdout",
     "output_type": "stream",
     "text": [
      "Hello World !\n"
     ]
    }
   ],
   "source": [
    "def list_elemanlari_birleştir(liste):\n",
    "    return ' '.join(liste)  # Boşluk ile birleştir\n",
    "\n",
    "string_list = [\"Hello\", \"World\", \"!\"]\n",
    "print(list_elemanlari_birleştir(string_list))  # Çıktı: Hello World !\n"
   ]
  },
  {
   "cell_type": "code",
   "execution_count": 244,
   "id": "de452e4c-7ed0-4037-99bd-cc5ff6c0b7ee",
   "metadata": {},
   "outputs": [
    {
     "data": {
      "text/plain": [
       "'\\nSoru 8: Listenin İkinci En Büyük Elemanını Bulma\\nBir liste verildiğinde, bu listenin ikinci en büyük elemanını döndüren bir fonksiyon yazın.\\nAynı elemanlar varsa sadece bir tanesini dikkate alın.\\n'"
      ]
     },
     "execution_count": 244,
     "metadata": {},
     "output_type": "execute_result"
    }
   ],
   "source": [
    "'''\n",
    "Soru 8: Listenin İkinci En Büyük Elemanını Bulma\n",
    "Bir liste verildiğinde, bu listenin ikinci en büyük elemanını döndüren bir fonksiyon yazın.\n",
    "Aynı elemanlar varsa sadece bir tanesini dikkate alın.\n",
    "'''"
   ]
  },
  {
   "cell_type": "code",
   "execution_count": 263,
   "id": "49c80dad-a1b4-4cac-b816-57965887f130",
   "metadata": {},
   "outputs": [
    {
     "name": "stdout",
     "output_type": "stream",
     "text": [
      "5\n"
     ]
    }
   ],
   "source": [
    "def listenin_ikinci_en_büyük_elemanını_bul(liste):\n",
    "    sorted_list = sorted(liste)\n",
    "    final = sorted_list[-2]\n",
    "    return final\n",
    "\n",
    "list_1 = [0,1,2,3,4,5,6]\n",
    "print(listenin_ikinci_en_büyük_elemanını_bul(list_1))"
   ]
  },
  {
   "cell_type": "code",
   "execution_count": 265,
   "id": "fed221a3-0939-416a-aa47-335bd56c7d13",
   "metadata": {},
   "outputs": [
    {
     "data": {
      "text/plain": [
       "'\\nSoru 9: Liste İçindeki Asal Sayıları Bulma\\nBir liste verildiğinde, bu liste içindeki asal sayıları döndüren bir fonksiyon yazın.\\n'"
      ]
     },
     "execution_count": 265,
     "metadata": {},
     "output_type": "execute_result"
    }
   ],
   "source": [
    "'''\n",
    "Soru 9: Liste İçindeki Asal Sayıları Bulma\n",
    "Bir liste verildiğinde, bu liste içindeki asal sayıları döndüren bir fonksiyon yazın.\n",
    "'''"
   ]
  },
  {
   "cell_type": "code",
   "execution_count": 267,
   "id": "da10b014-705c-4a93-b0b3-7d9168a115be",
   "metadata": {},
   "outputs": [
    {
     "name": "stdout",
     "output_type": "stream",
     "text": [
      "[2, 3, 5, 7]\n"
     ]
    }
   ],
   "source": [
    "def asal_mi(sayi):\n",
    "    if sayi < 2:\n",
    "        return False\n",
    "    for i in range(2, int(sayi ** 0.5) + 1):\n",
    "        if sayi % i == 0:\n",
    "            return False\n",
    "    return True\n",
    "\n",
    "def asal_sayilari_bul(liste):\n",
    "    return [x for x in liste if asal_mi(x)]\n",
    "\n",
    "# Örnek kullanım\n",
    "print(asal_sayilari_bul([1, 2, 3, 4, 5, 6, 7, 8, 9, 10]))  # Çıktı: [2, 3, 5, 7]\n"
   ]
  },
  {
   "cell_type": "code",
   "execution_count": null,
   "id": "b073268a-f6bf-4083-aeba-a0133b29575c",
   "metadata": {},
   "outputs": [],
   "source": [
    "'''\n",
    "Soru 10: Listeyi Döngüyle Tekrar Etme\n",
    "Bir liste verildiğinde, bu listeyi n kere tekrar eden bir liste döndüren bir \n",
    "fonksiyon yazın.\n",
    "'''"
   ]
  },
  {
   "cell_type": "code",
   "execution_count": 271,
   "id": "1d3bdd89-3725-478b-90f3-032f9753e52e",
   "metadata": {},
   "outputs": [
    {
     "name": "stdout",
     "output_type": "stream",
     "text": [
      "[0, 1, 2, 3, 4, 5, 6, 0, 1, 2, 3, 4, 5, 6]\n"
     ]
    }
   ],
   "source": [
    "def listeyi_tekrar_et(liste, n):\n",
    "    return liste * n\n",
    "print(listeyi_tekrar_et(list_1,2))"
   ]
  },
  {
   "cell_type": "code",
   "execution_count": null,
   "id": "0e2d8d30-eebc-4f7e-bec0-9117d1ba71bf",
   "metadata": {},
   "outputs": [],
   "source": []
  }
 ],
 "metadata": {
  "kernelspec": {
   "display_name": "Python 3 (ipykernel)",
   "language": "python",
   "name": "python3"
  },
  "language_info": {
   "codemirror_mode": {
    "name": "ipython",
    "version": 3
   },
   "file_extension": ".py",
   "mimetype": "text/x-python",
   "name": "python",
   "nbconvert_exporter": "python",
   "pygments_lexer": "ipython3",
   "version": "3.12.4"
  }
 },
 "nbformat": 4,
 "nbformat_minor": 5
}
